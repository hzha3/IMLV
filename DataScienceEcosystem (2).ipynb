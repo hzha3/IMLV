{
 "cells": [
  {
   "cell_type": "markdown",
   "id": "f903a24c-566a-4780-99d2-c40d4608486d",
   "metadata": {},
   "source": [
    "# Data Science Tools and Ecosystem"
   ]
  },
  {
   "cell_type": "markdown",
   "id": "8e059bdb-7675-4d9f-80a2-a460aecdc710",
   "metadata": {},
   "source": [
    "## Author\n",
    "Hongwei Zha"
   ]
  },
  {
   "cell_type": "markdown",
   "id": "a00ea022-6c39-43b6-bc5e-ecd8232e569e",
   "metadata": {},
   "source": [
    "In this notebook, Data Science Tools and Ecosystem are summarized."
   ]
  },
  {
   "cell_type": "markdown",
   "id": "7d1aa700-ce0c-4299-96aa-86e544e46490",
   "metadata": {},
   "source": [
    "__Objectives:__\n",
    "- List popular languages for Data Science\n",
    "- List commonly used libraries by Data Scientists\n",
    "- List popular development environment open source tools used in data science"
   ]
  },
  {
   "cell_type": "markdown",
   "id": "b91a187e-7957-4e8a-9a50-f9a8ed5efa95",
   "metadata": {},
   "source": [
    "Some of the popular languages that Data Scientists use are:\n",
    "1. Python\n",
    "2. R\n",
    "3. SQL"
   ]
  },
  {
   "cell_type": "markdown",
   "id": "f5952239-8d2d-49a2-b00c-8bde4d92fa26",
   "metadata": {},
   "source": [
    "Some of the commonly used libraries used by Data Scientists include:\n",
    "1. Pandas\n",
    "2. Numpy\n",
    "3. Matplotlib"
   ]
  },
  {
   "cell_type": "markdown",
   "id": "21db9c72-1b29-4f95-af15-f7910ff88fab",
   "metadata": {},
   "source": [
    "| Data Science Tools |\n",
    "| ------------------ |\n",
    "| Jupyter Notebook |\n",
    "| Apache Zeppelin |\n",
    "| Rstudio |\n",
    "\n"
   ]
  },
  {
   "cell_type": "markdown",
   "id": "b9220511-ce45-4379-8467-c666f117e16e",
   "metadata": {},
   "source": [
    "### Below are a few examples of evaluating arithmetic expressions in Python"
   ]
  },
  {
   "cell_type": "code",
   "execution_count": 5,
   "id": "9d0fd5f1-1af8-4715-88e3-d3cc73d94dd8",
   "metadata": {},
   "outputs": [
    {
     "data": {
      "text/plain": [
       "17"
      ]
     },
     "execution_count": 5,
     "metadata": {},
     "output_type": "execute_result"
    }
   ],
   "source": [
    "# This a simple arithmetic expression to mutiply then add integers\n",
    "(3*4)+5"
   ]
  },
  {
   "cell_type": "code",
   "execution_count": 3,
   "id": "62f8a6f3-9911-47fc-8dd4-4e0db8791135",
   "metadata": {},
   "outputs": [
    {
     "name": "stdout",
     "output_type": "stream",
     "text": [
      "200 minutes are 3.3333333333333335 hours\n"
     ]
    }
   ],
   "source": [
    "# This will convert 200 minutes to hours by diving by 60\n",
    "a = 200/60\n",
    "print(f\"200 minutes are {a} hours\")"
   ]
  },
  {
   "cell_type": "code",
   "execution_count": null,
   "id": "43eb1ea0-dee6-4ef9-950e-d09265b21881",
   "metadata": {},
   "outputs": [],
   "source": []
  }
 ],
 "metadata": {
  "kernelspec": {
   "display_name": "Python 3 (ipykernel)",
   "language": "python",
   "name": "python3"
  },
  "language_info": {
   "codemirror_mode": {
    "name": "ipython",
    "version": 3
   },
   "file_extension": ".py",
   "mimetype": "text/x-python",
   "name": "python",
   "nbconvert_exporter": "python",
   "pygments_lexer": "ipython3",
   "version": "3.8.15"
  }
 },
 "nbformat": 4,
 "nbformat_minor": 5
}
